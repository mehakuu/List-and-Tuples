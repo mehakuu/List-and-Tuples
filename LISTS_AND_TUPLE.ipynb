{
  "nbformat": 4,
  "nbformat_minor": 0,
  "metadata": {
    "colab": {
      "provenance": []
    },
    "kernelspec": {
      "name": "python3",
      "display_name": "Python 3"
    },
    "language_info": {
      "name": "python"
    }
  },
  "cells": [
    {
      "cell_type": "code",
      "execution_count": 1,
      "metadata": {
        "colab": {
          "base_uri": "https://localhost:8080/"
        },
        "id": "LicJMRoayY6O",
        "outputId": "87577e2e-5159-4d3c-eddd-9ee018ddd8ea"
      },
      "outputs": [
        {
          "output_type": "stream",
          "name": "stdout",
          "text": [
            "[1, 2, 4, 56, 6]\n"
          ]
        }
      ],
      "source": [
        "#create a list using []\n",
        "a=[1,2,4,56,6]\n",
        "print(a)"
      ]
    },
    {
      "cell_type": "code",
      "source": [
        "#a[0] #to see the 0th position element in the list\n",
        "#a[-1] #to see the -1th position element in the list\n",
        "#a[1:3] #to see the 1:3 elements of the list excluding the highest element\n",
        "#a[: : 2] #to see the all elements of the list with the increment of 2\n",
        "#a[:] #to see all the elements of the list\n",
        "#a[0:] #to see the all the elements of the list starting with 0 to last\n",
        "a[:5] #to see the all the elements of the list starting from 0 to 5th"
      ],
      "metadata": {
        "colab": {
          "base_uri": "https://localhost:8080/"
        },
        "id": "vvDFL0Hc00yo",
        "outputId": "9479b061-07b5-45c6-f499-7c0a7d539230"
      },
      "execution_count": 8,
      "outputs": [
        {
          "output_type": "execute_result",
          "data": {
            "text/plain": [
              "[1, 2, 4, 56, 6]"
            ]
          },
          "metadata": {},
          "execution_count": 8
        }
      ]
    },
    {
      "cell_type": "code",
      "source": [
        "#change the value of the list\n",
        "a[0]=9\n",
        "print(a)"
      ],
      "metadata": {
        "colab": {
          "base_uri": "https://localhost:8080/"
        },
        "id": "7CmPteqx2EfE",
        "outputId": "6c035adb-2c3b-41bd-bbfc-b206fd9c9eba"
      },
      "execution_count": 9,
      "outputs": [
        {
          "output_type": "stream",
          "name": "stdout",
          "text": [
            "[9, 2, 4, 56, 6]\n"
          ]
        }
      ]
    },
    {
      "cell_type": "code",
      "source": [
        "b=[45,\"Harry\",False,6.9] #list can have any type of elements\n",
        "print(b)\n",
        "b[2]"
      ],
      "metadata": {
        "colab": {
          "base_uri": "https://localhost:8080/"
        },
        "id": "AjLrAjLv2O4F",
        "outputId": "4ed55ef1-52af-47ac-8395-7f9eebc98110"
      },
      "execution_count": 12,
      "outputs": [
        {
          "output_type": "stream",
          "name": "stdout",
          "text": [
            "[45, 'Harry', False, 6.9]\n"
          ]
        },
        {
          "output_type": "execute_result",
          "data": {
            "text/plain": [
              "False"
            ]
          },
          "metadata": {},
          "execution_count": 12
        }
      ]
    },
    {
      "cell_type": "code",
      "source": [
        "#list slicing\n",
        "c=[\"Harry\",\"Tom\",\"Rohan\",\"Sam\",\"Divya\",45]\n",
        "#print(c) #print the elements\n",
        "#print(c[0:4]) #print elements from 0 to 4 excluding 4th element\n",
        "#print(c[-4:]) #to print the elements from last\n",
        "print(c[-4:-2]) #to print the elements from -4 to -2 excluding the -2th elements"
      ],
      "metadata": {
        "colab": {
          "base_uri": "https://localhost:8080/"
        },
        "id": "sKWyfcrh2uRE",
        "outputId": "2391d62e-1f24-4387-b87b-ec6aeda75ac7"
      },
      "execution_count": 16,
      "outputs": [
        {
          "output_type": "stream",
          "name": "stdout",
          "text": [
            "['Rohan', 'Sam']\n"
          ]
        }
      ]
    },
    {
      "cell_type": "code",
      "source": [
        "#operations on list\n",
        "d=[1,8,7,21,15]\n",
        "#print(d) #print the elements of the list\n",
        "#d.sort() #to arrange the elements in ascending order by default using function\n",
        "#d.reverse() #to reverse the elements of the list\n",
        "#d.append(45) #to add the elements at the last of the list\n",
        "#d.insert(2,544) #to add the new element at the 2nd position\n",
        "#d.pop(2) #to remove the 2nd position element from the list \n",
        "d.remove(21) #to remove the particular element from the list\n",
        "print(d)\n",
        "type(d)"
      ],
      "metadata": {
        "colab": {
          "base_uri": "https://localhost:8080/"
        },
        "id": "pXvO_9Ar3u-o",
        "outputId": "f95b7b6d-daf3-46d9-ad30-0b7754a7bc25"
      },
      "execution_count": 29,
      "outputs": [
        {
          "output_type": "stream",
          "name": "stdout",
          "text": [
            "[1, 8, 7, 15]\n"
          ]
        },
        {
          "output_type": "execute_result",
          "data": {
            "text/plain": [
              "list"
            ]
          },
          "metadata": {},
          "execution_count": 29
        }
      ]
    },
    {
      "cell_type": "code",
      "source": [
        "#create a tuple using ()\n",
        "e=(1,2,4,5)\n",
        "print(e)"
      ],
      "metadata": {
        "colab": {
          "base_uri": "https://localhost:8080/"
        },
        "id": "4w4-hVTm6IZZ",
        "outputId": "368dc0a9-ed28-45d9-f7f1-0cf7d09c77a9"
      },
      "execution_count": 30,
      "outputs": [
        {
          "output_type": "stream",
          "name": "stdout",
          "text": [
            "(1, 2, 4, 5)\n"
          ]
        }
      ]
    },
    {
      "cell_type": "code",
      "source": [
        "#f=() #empty tuple\n",
        "#f=(1) #single element like this not a tuple it a int\n",
        "f=(1,) #to put single element as a tuple use comma after the element\n",
        "print(f)\n",
        "type(f)"
      ],
      "metadata": {
        "colab": {
          "base_uri": "https://localhost:8080/"
        },
        "id": "qeii-3Dr7zLu",
        "outputId": "728e1483-8537-481d-8c98-41c34c32c742"
      },
      "execution_count": 33,
      "outputs": [
        {
          "output_type": "stream",
          "name": "stdout",
          "text": [
            "(1,)\n"
          ]
        },
        {
          "output_type": "execute_result",
          "data": {
            "text/plain": [
              "tuple"
            ]
          },
          "metadata": {},
          "execution_count": 33
        }
      ]
    },
    {
      "cell_type": "code",
      "source": [
        "#printing the elements of a tuple\n",
        "#print(e[0]) #to print the 0th position element of the tuple\n",
        "#e[0:] #to see the all the elements\n",
        "e[:4] #to see the all the elements"
      ],
      "metadata": {
        "colab": {
          "base_uri": "https://localhost:8080/"
        },
        "id": "4R-qW4Uz8XLi",
        "outputId": "bd6c214c-c0cc-4e56-e56f-24ee735e0d67"
      },
      "execution_count": 36,
      "outputs": [
        {
          "output_type": "execute_result",
          "data": {
            "text/plain": [
              "(1, 2, 4, 5)"
            ]
          },
          "metadata": {},
          "execution_count": 36
        }
      ]
    },
    {
      "cell_type": "code",
      "source": [
        "#creating the tuple using ()\n",
        "g=(1,2,4,5,4,1,2,1,1,5)\n",
        "#print(g) #to print the elements\n",
        "#print(g.count(1)) #the number of times a particular element is repeted in the tuple\n",
        "print(g.index(5)) #to see the index of the particular element"
      ],
      "metadata": {
        "colab": {
          "base_uri": "https://localhost:8080/"
        },
        "id": "CHCGuhyT9Usu",
        "outputId": "1617480a-9d53-4805-9fee-b248a7960b08"
      },
      "execution_count": 39,
      "outputs": [
        {
          "output_type": "stream",
          "name": "stdout",
          "text": [
            "3\n"
          ]
        }
      ]
    },
    {
      "cell_type": "code",
      "source": [
        "#create list to store the marks of 6 courses and also sort it. Marks will be taken from user at run time\n",
        "A=input(\"Enter the marks of the first course: \")\n",
        "A=int(A)\n",
        "B=input(\"Enter the marks of the second course: \")\n",
        "B=int(B)\n",
        "C=input(\"Enter the marks of the third course: \")\n",
        "C=int(C)\n",
        "D=input(\"Enter the marks of the fourth course: \")\n",
        "D=int(D)\n",
        "E=input(\"Enter the marks of the fifth course: \")\n",
        "E=int(E)\n",
        "F=input(\"Enter the marks of the sixth course: \")\n",
        "F=int(F)\n",
        "G=[A,B,C,D,E,F]\n",
        "print(G)\n",
        "type(G)\n",
        "G.sort()\n",
        "print(G)"
      ],
      "metadata": {
        "colab": {
          "base_uri": "https://localhost:8080/"
        },
        "id": "TMVvnFd3_4Hs",
        "outputId": "5fd7e4f2-e953-4f5a-85f3-67868375fb10"
      },
      "execution_count": 52,
      "outputs": [
        {
          "output_type": "stream",
          "name": "stdout",
          "text": [
            "Enter the marks of the first course: 1\n",
            "Enter the marks of the second course: 5\n",
            "Enter the marks of the third course: 94\n",
            "Enter the marks of the fourth course: 5\n",
            "Enter the marks of the fifth course: 76\n",
            "Enter the marks of the sixth course: 55\n",
            "[1, 5, 94, 5, 76, 55]\n",
            "[1, 5, 5, 55, 76, 94]\n"
          ]
        }
      ]
    },
    {
      "cell_type": "code",
      "source": [
        "#create list to store the marks of 6 courses and also sort it. Marks will be taken from user at run time using loop\n",
        "for i in range(6):\n",
        "  marks=input(\"Enter the marks of the courses: \")\n",
        "  marks=int(marks)\n",
        "  print(marks)\n",
        "  Marks=[marks]\n",
        "print(Marks)"
      ],
      "metadata": {
        "colab": {
          "base_uri": "https://localhost:8080/"
        },
        "id": "WoUWh_Z7AnNh",
        "outputId": "17f1339f-35d3-445d-800b-5fc2d6f3a035"
      },
      "execution_count": 67,
      "outputs": [
        {
          "output_type": "stream",
          "name": "stdout",
          "text": [
            "Enter the marks of the courses: 99\n",
            "99\n",
            "Enter the marks of the courses: 24\n",
            "24\n",
            "Enter the marks of the courses: 57\n",
            "57\n",
            "Enter the marks of the courses: 38\n",
            "38\n",
            "Enter the marks of the courses: 59\n",
            "59\n",
            "Enter the marks of the courses: 79\n",
            "79\n",
            "[79]\n"
          ]
        }
      ]
    },
    {
      "cell_type": "code",
      "source": [
        "type(Marks)"
      ],
      "metadata": {
        "colab": {
          "base_uri": "https://localhost:8080/"
        },
        "id": "Kv1qo9tnG9MA",
        "outputId": "9af417e0-584d-4c5b-ab1f-e77a04138136"
      },
      "execution_count": 68,
      "outputs": [
        {
          "output_type": "execute_result",
          "data": {
            "text/plain": [
              "list"
            ]
          },
          "metadata": {},
          "execution_count": 68
        }
      ]
    }
  ]
}